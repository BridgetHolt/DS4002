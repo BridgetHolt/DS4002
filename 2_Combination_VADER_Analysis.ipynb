{
  "nbformat": 4,
  "nbformat_minor": 0,
  "metadata": {
    "colab": {
      "provenance": [],
      "name": "2_Combination_VADER_Analysis.ipynb",
      "include_colab_link": true
    },
    "kernelspec": {
      "name": "python3",
      "display_name": "Python 3"
    },
    "language_info": {
      "name": "python"
    }
  },
  "cells": [
    {
      "cell_type": "markdown",
      "metadata": {
        "id": "view-in-github",
        "colab_type": "text"
      },
      "source": [
        "<a href=\"https://colab.research.google.com/github/BridgetHolt/DS4002/blob/main/2_Combination_VADER_Analysis.ipynb\" target=\"_parent\"><img src=\"https://colab.research.google.com/assets/colab-badge.svg\" alt=\"Open In Colab\"/></a>"
      ]
    },
    {
      "cell_type": "markdown",
      "source": [
        "#This script combines the 18 original CSV files (by makeup product) from Google Drive folder into one CSV, performs sentiment analysis on reviews using python's sentiment analysis package, VADER, and adds a column with these sentiment values to create our finalized dataset, called combined_clean_data.csv."
      ],
      "metadata": {
        "id": "E3roZvTByB3V"
      }
    },
    {
      "cell_type": "code",
      "execution_count": null,
      "metadata": {
        "id": "m7sviS7kvAny"
      },
      "outputs": [],
      "source": [
        "# Import necessary packages\n",
        "import os\n",
        "import pandas as pd\n",
        "import pandas as pd\n",
        "from google.colab import files"
      ]
    },
    {
      "cell_type": "code",
      "source": [
        "# Combining all 18 CSV files, by makeup product, into one CSV\n",
        "#Directory containing the CSV files\n",
        "directory = 'DS4002/DATA/Cleaned Individual Data'\n",
        "\n",
        "#Loop through all files in the directory\n",
        "dataframes = []\n",
        "for filename in os.listdir(directory):\n",
        "    if filename.endswith('.csv'):\n",
        "        file_path = os.path.join(directory, filename)\n",
        "        df = pd.read_csv(file_path)\n",
        "        dataframes.append(df)\n",
        "\n",
        "#Combine all dataframes into one\n",
        "combined_df = pd.concat(dataframes, ignore_index=True)\n",
        "\n",
        "print('CSV files combined successfully!')"
      ],
      "metadata": {
        "id": "tSQ94p2vPmp2"
      },
      "execution_count": null,
      "outputs": []
    },
    {
      "cell_type": "code",
      "source": [
        "# Installing the VADER sentiment analysis package\n",
        "!pip install vaderSentiment"
      ],
      "metadata": {
        "colab": {
          "base_uri": "https://localhost:8080/"
        },
        "id": "m5-1WVMlCV3y",
        "outputId": "5e6502c4-d315-4f89-a9ab-c6cc5d1a6162"
      },
      "execution_count": null,
      "outputs": [
        {
          "output_type": "stream",
          "name": "stdout",
          "text": [
            "Collecting vaderSentiment\n",
            "  Downloading vaderSentiment-3.3.2-py2.py3-none-any.whl.metadata (572 bytes)\n",
            "Requirement already satisfied: requests in /usr/local/lib/python3.11/dist-packages (from vaderSentiment) (2.32.3)\n",
            "Requirement already satisfied: charset-normalizer<4,>=2 in /usr/local/lib/python3.11/dist-packages (from requests->vaderSentiment) (3.4.1)\n",
            "Requirement already satisfied: idna<4,>=2.5 in /usr/local/lib/python3.11/dist-packages (from requests->vaderSentiment) (3.10)\n",
            "Requirement already satisfied: urllib3<3,>=1.21.1 in /usr/local/lib/python3.11/dist-packages (from requests->vaderSentiment) (2.3.0)\n",
            "Requirement already satisfied: certifi>=2017.4.17 in /usr/local/lib/python3.11/dist-packages (from requests->vaderSentiment) (2025.1.31)\n",
            "Downloading vaderSentiment-3.3.2-py2.py3-none-any.whl (125 kB)\n",
            "\u001b[2K   \u001b[90m━━━━━━━━━━━━━━━━━━━━━━━━━━━━━━━━━━━━━━━━\u001b[0m \u001b[32m126.0/126.0 kB\u001b[0m \u001b[31m2.8 MB/s\u001b[0m eta \u001b[36m0:00:00\u001b[0m\n",
            "\u001b[?25hInstalling collected packages: vaderSentiment\n",
            "Successfully installed vaderSentiment-3.3.2\n"
          ]
        }
      ]
    },
    {
      "cell_type": "code",
      "source": [
        "# Install necessary packages\n",
        "from vaderSentiment.vaderSentiment import SentimentIntensityAnalyzer"
      ],
      "metadata": {
        "id": "xVdabyT4Qn1f"
      },
      "execution_count": null,
      "outputs": []
    },
    {
      "cell_type": "code",
      "source": [
        "# Performing sentiment analysis\n",
        "analyzer = SentimentIntensityAnalyzer()\n",
        "def get_sentiment_scores(text):  # Creating a function to get sentiment scores\n",
        "    scores = analyzer.polarity_scores(str(text))\n",
        "    return scores['pos'], scores['neg'], scores['neu'], scores['compound']\n",
        "\n",
        "#Adding new columns to our dataset\n",
        "combined_df[['PositiveScore', 'NegativeScore', 'NeutralScore', 'CompoundScore']] = combined_df['ReviewText'].apply(get_sentiment_scores).apply(pd.Series)\n",
        "print(combined_df.head())"
      ],
      "metadata": {
        "colab": {
          "base_uri": "https://localhost:8080/"
        },
        "id": "AN8t4wGQBu3o",
        "outputId": "835d9ed0-ae2c-4a17-d503-43ccc477cc84"
      },
      "execution_count": null,
      "outputs": [
        {
          "output_type": "stream",
          "name": "stdout",
          "text": [
            "            Title                                         ReviewText  \\\n",
            "0     Bad formula  Love the color but this thing broke within the...   \n",
            "1             NaN  Pros: very pigmented, love the color\\nCons: so...   \n",
            "2        The best  I love using it very much. I have fair skin an...   \n",
            "3             NaN  I love this blush!!!! it’s so cut and works we...   \n",
            "4  Intense Colour  This is the most intense blush I have ever use...   \n",
            "\n",
            "        UserID         Date       Brand Product CelebrityBranded  \\\n",
            "0  SalmaElnady  06 Feb 2025  RareBeauty   Blush              Yes   \n",
            "1   carleebird  05 Feb 2025  RareBeauty   Blush              Yes   \n",
            "2          NaN  05 Feb 2025  RareBeauty   Blush              Yes   \n",
            "3  Abigail2025  04 Feb 2025  RareBeauty   Blush              Yes   \n",
            "4    Samwalita  03 Feb 2025  RareBeauty   Blush              Yes   \n",
            "\n",
            "   PositiveScore  NegativeScore  NeutralScore  CompoundScore  \n",
            "0          0.127          0.264         0.608        -0.8827  \n",
            "1          0.248          0.000         0.752         0.8903  \n",
            "2          0.360          0.000         0.640         0.8934  \n",
            "3          0.238          0.107         0.655         0.8145  \n",
            "4          0.130          0.042         0.827         0.5849  \n"
          ]
        }
      ]
    },
    {
      "cell_type": "code",
      "source": [
        "#Adding a 'Sentiment' column to categorize by Positive, Neutral, and Negative\n",
        "df.loc[(df['CompoundScore'] >= 0.5) & (df['CompoundScore'] <= 1), 'Sentiment'] = 'Positive'\n",
        "df.loc[(df['CompoundScore'] >= -0.5) & (df['CompoundScore'] <= 0.5), 'Sentiment'] = 'Neutral'\n",
        "df.loc[(df['CompoundScore'] >= -1) & (df['CompoundScore'] <= -0.5), 'Sentiment'] = 'Negative'"
      ],
      "metadata": {
        "id": "xI-GIVJ7IvQp"
      },
      "execution_count": null,
      "outputs": []
    },
    {
      "cell_type": "code",
      "source": [
        "#Save the combined dataframe to a new CSV file called combined_clean_data.csv\n",
        "combined_df.to_csv('combined_clean_data.csv', index=False)\n",
        "files.download('combined_clean_data.csv')"
      ],
      "metadata": {
        "colab": {
          "base_uri": "https://localhost:8080/",
          "height": 17
        },
        "id": "Gw91MkzowYK-",
        "outputId": "d13b9f7c-042f-4b5f-b135-3f53ae1c89e6"
      },
      "execution_count": null,
      "outputs": [
        {
          "output_type": "display_data",
          "data": {
            "text/plain": [
              "<IPython.core.display.Javascript object>"
            ],
            "application/javascript": [
              "\n",
              "    async function download(id, filename, size) {\n",
              "      if (!google.colab.kernel.accessAllowed) {\n",
              "        return;\n",
              "      }\n",
              "      const div = document.createElement('div');\n",
              "      const label = document.createElement('label');\n",
              "      label.textContent = `Downloading \"${filename}\": `;\n",
              "      div.appendChild(label);\n",
              "      const progress = document.createElement('progress');\n",
              "      progress.max = size;\n",
              "      div.appendChild(progress);\n",
              "      document.body.appendChild(div);\n",
              "\n",
              "      const buffers = [];\n",
              "      let downloaded = 0;\n",
              "\n",
              "      const channel = await google.colab.kernel.comms.open(id);\n",
              "      // Send a message to notify the kernel that we're ready.\n",
              "      channel.send({})\n",
              "\n",
              "      for await (const message of channel.messages) {\n",
              "        // Send a message to notify the kernel that we're ready.\n",
              "        channel.send({})\n",
              "        if (message.buffers) {\n",
              "          for (const buffer of message.buffers) {\n",
              "            buffers.push(buffer);\n",
              "            downloaded += buffer.byteLength;\n",
              "            progress.value = downloaded;\n",
              "          }\n",
              "        }\n",
              "      }\n",
              "      const blob = new Blob(buffers, {type: 'application/binary'});\n",
              "      const a = document.createElement('a');\n",
              "      a.href = window.URL.createObjectURL(blob);\n",
              "      a.download = filename;\n",
              "      div.appendChild(a);\n",
              "      a.click();\n",
              "      div.remove();\n",
              "    }\n",
              "  "
            ]
          },
          "metadata": {}
        },
        {
          "output_type": "display_data",
          "data": {
            "text/plain": [
              "<IPython.core.display.Javascript object>"
            ],
            "application/javascript": [
              "download(\"download_bb95671b-d3e1-48e9-a5bf-9c1525f2336d\", \"combined_output.csv\", 10476883)"
            ]
          },
          "metadata": {}
        }
      ]
    },
    {
      "cell_type": "markdown",
      "source": [
        "##This leaves us with our finalized dataset!"
      ],
      "metadata": {
        "id": "vPjHwFKiQtV0"
      }
    }
  ]
}