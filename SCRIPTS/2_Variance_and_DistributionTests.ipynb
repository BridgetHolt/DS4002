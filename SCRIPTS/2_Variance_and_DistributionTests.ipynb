{
  "nbformat": 4,
  "nbformat_minor": 0,
  "metadata": {
    "colab": {
      "provenance": []
    },
    "kernelspec": {
      "name": "python3",
      "display_name": "Python 3"
    },
    "language_info": {
      "name": "python"
    }
  },
  "cells": [
    {
      "cell_type": "code",
      "source": [
        "# Connect to GitHub\n",
        "! git clone https://github.com/BridgetHolt/DS4002"
      ],
      "metadata": {
        "colab": {
          "base_uri": "https://localhost:8080/"
        },
        "id": "TFmVrMYrC8Sd",
        "outputId": "1ac4c0c8-bffc-4460-ec0c-96892f1f10cb"
      },
      "execution_count": null,
      "outputs": [
        {
          "output_type": "stream",
          "name": "stdout",
          "text": [
            "Cloning into 'DS4002'...\n",
            "remote: Enumerating objects: 335, done.\u001b[K\n",
            "remote: Counting objects: 100% (171/171), done.\u001b[K\n",
            "remote: Compressing objects: 100% (160/160), done.\u001b[K\n",
            "remote: Total 335 (delta 87), reused 11 (delta 11), pack-reused 164 (from 1)\u001b[K\n",
            "Receiving objects: 100% (335/335), 10.13 MiB | 4.66 MiB/s, done.\n",
            "Resolving deltas: 100% (135/135), done.\n",
            "Updating files: 100% (49/49), done.\n"
          ]
        }
      ]
    },
    {
      "cell_type": "code",
      "source": [
        "#import packages\n",
        "import scipy.stats as stats\n",
        "import pandas as pd"
      ],
      "metadata": {
        "id": "oIFL-ALeDMc-"
      },
      "execution_count": null,
      "outputs": []
    },
    {
      "cell_type": "code",
      "source": [
        "df=pd.read_csv('DS4002/DATA/combined_clean_data.csv')"
      ],
      "metadata": {
        "id": "V-8-uRD8DCdA"
      },
      "execution_count": null,
      "outputs": []
    },
    {
      "cell_type": "markdown",
      "source": [
        "Use levene's test to check if two groups have equal variance - how spread out the data is. We are testing celebrity branded vs non celebrity branded distributions. If the p score is <0.05 it means that one group has much more variablity than the other."
      ],
      "metadata": {
        "id": "ZnlFK5zMFM0t"
      }
    },
    {
      "cell_type": "code",
      "source": [
        "\n",
        "# absolute value to measure polarization\n",
        "df['absolute_sentiment'] = df['CompoundScore'].abs()\n",
        "\n",
        "# group by celebrity vs non celebrity brands for comparison\n",
        "celebrity= df[df['CelebrityBranded'] == 'Yes']['absolute_sentiment']\n",
        "non_celebrity= df[df['CelebrityBranded'] == 'No']['absolute_sentiment']\n"
      ],
      "metadata": {
        "id": "49yiCDp5DtWQ"
      },
      "execution_count": null,
      "outputs": []
    },
    {
      "cell_type": "code",
      "execution_count": null,
      "metadata": {
        "colab": {
          "base_uri": "https://localhost:8080/"
        },
        "id": "4rJICGsWC7Gs",
        "outputId": "4ad74b69-e732-4aa0-b2e0-f9c2bdd25dd3"
      },
      "outputs": [
        {
          "output_type": "stream",
          "name": "stdout",
          "text": [
            "Levene’s test statistic: 312.79620542729555, p-value: 1.2501550375766933e-69\n"
          ]
        }
      ],
      "source": [
        "from scipy.stats import levene\n",
        "\n",
        "#perform levene's test\n",
        "\n",
        "stat, p = levene(celebrity, non_celebrity)\n",
        "print(f\"Levene’s test statistic: {stat}, p-value: {p}\")\n"
      ]
    },
    {
      "cell_type": "markdown",
      "source": [
        "The p-value is significantly lower than 0.05 concluding that Celebrity Branded and Non-Celebrity branded have significant different variances"
      ],
      "metadata": {
        "id": "kZY-LtkZGN7M"
      }
    },
    {
      "cell_type": "markdown",
      "source": [
        "Use Mann-Whitney U test to compare distribution for two groups that don't have a normal distribution. This tests if one group has higher or lower values than the other. If the p value is <0.05 the groups are significantly different"
      ],
      "metadata": {
        "id": "OhwCMXK2IOxJ"
      }
    },
    {
      "cell_type": "code",
      "source": [
        "from scipy.stats import mannwhitneyu\n",
        "\n",
        "#conduct the Mann-Whitney U test\n",
        "stat, p = mannwhitneyu(celebrity, non_celebrity, alternative='two-sided')\n",
        "print(f\"Mann-Whitney U statistic: {stat}, p-value: {p}\")"
      ],
      "metadata": {
        "colab": {
          "base_uri": "https://localhost:8080/"
        },
        "id": "Fglsy4GZGuLM",
        "outputId": "c6323527-ec4d-42c4-f107-617a195ee471"
      },
      "execution_count": null,
      "outputs": [
        {
          "output_type": "stream",
          "name": "stdout",
          "text": [
            "Mann-Whitney U statistic: 85567456.5, p-value: 1.5662013758685585e-130\n"
          ]
        }
      ]
    },
    {
      "cell_type": "markdown",
      "source": [
        "Since the p-value is much less thatn 0.05 celebrity and non-celebrity brands have significantly different levels of compound sentiment score polarization. Data visulaizations can be used to understand the sentiment score distribution and variance more.   "
      ],
      "metadata": {
        "id": "IG6Go7rJIvPE"
      }
    }
  ]
}
