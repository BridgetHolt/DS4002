{
  "nbformat": 4,
  "nbformat_minor": 0,
  "metadata": {
    "colab": {
      "provenance": [],
      "include_colab_link": true
    },
    "kernelspec": {
      "name": "python3",
      "display_name": "Python 3"
    },
    "language_info": {
      "name": "python"
    }
  },
  "cells": [
    {
      "cell_type": "markdown",
      "metadata": {
        "id": "view-in-github",
        "colab_type": "text"
      },
      "source": [
        "<a href=\"https://colab.research.google.com/github/BridgetHolt/DS4002/blob/main/SCRIPTS/1_CleaningData.ipynb\" target=\"_parent\"><img src=\"https://colab.research.google.com/assets/colab-badge.svg\" alt=\"Open In Colab\"/></a>"
      ]
    },
    {
      "cell_type": "markdown",
      "source": [
        "#Cleaning + adding columns"
      ],
      "metadata": {
        "id": "g-E5WHJwd79Y"
      }
    },
    {
      "cell_type": "code",
      "source": [
        "import pandas as pd\n",
        "import numpy as np\n",
        "import matplotlib.pyplot as plt\n",
        "import seaborn as sns"
      ],
      "metadata": {
        "id": "wh0Lze5td-uc"
      },
      "execution_count": null,
      "outputs": []
    },
    {
      "cell_type": "code",
      "source": [
        "#Reads the CSV file\n",
        "df=pd.read_csv('DS4002/DATA/Uncleaned Individual Data/RareBeautyMascara.csv') #Change file path for each makeup product"
      ],
      "metadata": {
        "id": "jCmk_bm_d-Y2"
      },
      "execution_count": null,
      "outputs": []
    },
    {
      "cell_type": "code",
      "source": [
        "#Removes the unnecessary columns\n",
        "df = df.drop(['web-scraper-order','web-scraper-start-url','ReviewLink','ReviewLink-href','Pagination'], axis=1)"
      ],
      "metadata": {
        "id": "qp9C4Nj-eQ8T"
      },
      "execution_count": null,
      "outputs": []
    },
    {
      "cell_type": "code",
      "source": [
        "df.head(10)"
      ],
      "metadata": {
        "id": "8c_vvNikeQ4J"
      },
      "execution_count": null,
      "outputs": []
    },
    {
      "cell_type": "code",
      "source": [
        "#add brand name\n",
        "df['Brand'] = 'RareBeauty' #Update for each Product\n",
        "\n",
        "#add product type\n",
        "df['Product'] = 'Masacara'  #Update for each Product\n",
        "\n",
        "\n",
        "#add celebrity\n",
        "df['CelebrityBranded'] = 'Yes'  #Update for each Product"
      ],
      "metadata": {
        "id": "rr40oD25eQxo"
      },
      "execution_count": null,
      "outputs": []
    },
    {
      "cell_type": "code",
      "source": [
        "df.head()"
      ],
      "metadata": {
        "id": "EuaJO6wTeQnv"
      },
      "execution_count": null,
      "outputs": []
    },
    {
      "cell_type": "code",
      "source": [
        "#Cleaning the Date column\n",
        "from datetime import datetime, timedelta\n",
        "import re\n",
        "\n",
        "#Strip any leading/trailing spaces from column names\n",
        "df.columns = df.columns.str.strip()\n",
        "\n",
        "#Print column names to verify\n",
        "print(\"Column Names:\", df.columns)\n",
        "\n",
        "#Make sure 'Date' exists and check for variations\n",
        "if \"Date\" not in df.columns:\n",
        "    possible_match = [col for col in df.columns if \"date\" in col.lower()]\n",
        "    if possible_match:\n",
        "        date_col = possible_match[0]  # Use the closest match\n",
        "        print(f\"Using column: {date_col} instead of 'Date'\")\n",
        "    else:\n",
        "        raise KeyError(\"Date column not found! Check the column names.\")\n",
        "else:\n",
        "    date_col = \"Date\"\n",
        "\n",
        "def convert_date(date_str):\n",
        "    \"\"\"Convert relative dates (e.g., '5 d ago', '16 h ago') to absolute dates.\"\"\"\n",
        "    if re.match(r\"\\d{1,2} [A-Za-z]{3} \\d{4}\", date_str):  # Already in correct format\n",
        "        return date_str\n",
        "\n",
        "    match = re.match(r\"(\\d+) (d|h) ago\", date_str)\n",
        "    if match:\n",
        "        num, unit = int(match.group(1)), match.group(2)\n",
        "        if unit == \"d\":\n",
        "            new_date = datetime.today() - timedelta(days=num)\n",
        "        elif unit == \"h\":\n",
        "            new_date = datetime.today() - timedelta(hours=num)\n",
        "        return new_date.strftime(\"%d %b %Y\")\n",
        "\n",
        "    return date_str  #If the format is not expected, return as is\n",
        "\n",
        "#Transform the Date column\n",
        "df[date_col] = df[date_col].astype(str).apply(convert_date)\n",
        "\n",
        "#Save the cleaned CSV\n",
        "df.to_csv(\"RareBeautyMascara.csv\", index=False) #Update for each product\n",
        "\n",
        "#Display results\n",
        "print(df[[date_col]].head())\n"
      ],
      "metadata": {
        "id": "gl5lTrNTedKV"
      },
      "execution_count": null,
      "outputs": []
    },
    {
      "cell_type": "code",
      "source": [
        "\n",
        "from google.colab import files\n",
        "\n",
        "#saves cleaned file\n",
        "df.to_csv('RareBeautyMascaraClean.csv', index=False) #Update by product\n",
        "\n",
        "files.download('RareBeautyMascaraClean.csv') #Update by product"
      ],
      "metadata": {
        "id": "iTWRrZBXedGs"
      },
      "execution_count": null,
      "outputs": []
    }
  ]
}