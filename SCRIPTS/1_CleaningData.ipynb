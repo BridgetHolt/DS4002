{
  "nbformat": 4,
  "nbformat_minor": 0,
  "metadata": {
    "colab": {
      "provenance": [],
      "authorship_tag": "ABX9TyOGrNzGzGpQ4UPaRGTj41gq",
      "include_colab_link": true
    },
    "kernelspec": {
      "name": "python3",
      "display_name": "Python 3"
    },
    "language_info": {
      "name": "python"
    }
  },
  "cells": [
    {
      "cell_type": "markdown",
      "metadata": {
        "id": "view-in-github",
        "colab_type": "text"
      },
      "source": [
        "<a href=\"https://colab.research.google.com/github/BridgetHolt/DS4002/blob/main/SCRIPTS/1_CleaningData.ipynb\" target=\"_parent\"><img src=\"https://colab.research.google.com/assets/colab-badge.svg\" alt=\"Open In Colab\"/></a>"
      ]
    },
    {
      "cell_type": "markdown",
      "source": [
        "#Cleaning + adding columns"
      ],
      "metadata": {
        "id": "g-E5WHJwd79Y"
      }
    },
    {
      "cell_type": "code",
      "source": [
        "import pandas as pd\n",
        "import numpy as np\n",
        "import matplotlib.pyplot as plt\n",
        "import seaborn as sns"
      ],
      "metadata": {
        "id": "wh0Lze5td-uc"
      },
      "execution_count": null,
      "outputs": []
    },
    {
      "cell_type": "code",
      "source": [
        "# Read CSV file\n",
        "df=pd.read_csv('DATA/Uncleaned Individual Data/RareBeautyMascara.csv') #Change file path for each makeup product"
      ],
      "metadata": {
        "id": "jCmk_bm_d-Y2"
      },
      "execution_count": null,
      "outputs": []
    },
    {
      "cell_type": "code",
      "source": [
        "# Remove unnecessary columns\n",
        "\n",
        "df = df.drop(['web-scraper-order','web-scraper-start-url','ReviewLink','ReviewLink-href','Pagination'], axis=1)"
      ],
      "metadata": {
        "id": "qp9C4Nj-eQ8T"
      },
      "execution_count": null,
      "outputs": []
    },
    {
      "cell_type": "code",
      "source": [
        "df.head(10)"
      ],
      "metadata": {
        "id": "8c_vvNikeQ4J"
      },
      "execution_count": null,
      "outputs": []
    },
    {
      "cell_type": "code",
      "source": [
        "# Adding columns\n",
        "\n",
        "#change these for each csv!!!\n",
        "#use capital letters for brand names and product types and column name to keep same!\n",
        "\n",
        "#add brand name\n",
        "\n",
        "df['Brand'] = 'RareBeauty' #Update for each Product\n",
        "\n",
        "#add product type\n",
        "\n",
        "df['Product'] = 'Masacara'  #Update for each Product\n",
        "\n",
        "\n",
        "#add celebrity\n",
        "\n",
        "df['CelebrityBranded'] = 'Yes'  #Update for each Product"
      ],
      "metadata": {
        "id": "rr40oD25eQxo"
      },
      "execution_count": null,
      "outputs": []
    },
    {
      "cell_type": "code",
      "source": [
        "df.head()"
      ],
      "metadata": {
        "id": "EuaJO6wTeQnv"
      },
      "execution_count": null,
      "outputs": []
    },
    {
      "cell_type": "code",
      "source": [
        "# Cleaning the Date column\n",
        "\n",
        "from datetime import datetime, timedelta\n",
        "import re\n",
        "\n",
        "# Strip any leading/trailing spaces from column names\n",
        "df.columns = df.columns.str.strip()\n",
        "\n",
        "# Print column names to verify\n",
        "print(\"Column Names:\", df.columns)\n",
        "\n",
        "# Ensure 'Date' exists and check for variations\n",
        "if \"Date\" not in df.columns:\n",
        "    possible_match = [col for col in df.columns if \"date\" in col.lower()]\n",
        "    if possible_match:\n",
        "        date_col = possible_match[0]  # Use the closest match\n",
        "        print(f\"Using column: {date_col} instead of 'Date'\")\n",
        "    else:\n",
        "        raise KeyError(\"Date column not found! Check the column names.\")\n",
        "else:\n",
        "    date_col = \"Date\"\n",
        "\n",
        "def convert_date(date_str):\n",
        "    \"\"\"Convert relative dates (e.g., '5 d ago', '16 h ago') to absolute dates.\"\"\"\n",
        "    if re.match(r\"\\d{1,2} [A-Za-z]{3} \\d{4}\", date_str):  # Already in correct format\n",
        "        return date_str\n",
        "\n",
        "    match = re.match(r\"(\\d+) (d|h) ago\", date_str)\n",
        "    if match:\n",
        "        num, unit = int(match.group(1)), match.group(2)\n",
        "        if unit == \"d\":\n",
        "            new_date = datetime.today() - timedelta(days=num)\n",
        "        elif unit == \"h\":\n",
        "            new_date = datetime.today() - timedelta(hours=num)\n",
        "        return new_date.strftime(\"%d %b %Y\")\n",
        "\n",
        "    return date_str  # If format is unexpected, return as is\n",
        "\n",
        "# Apply transformation to the Date column\n",
        "df[date_col] = df[date_col].astype(str).apply(convert_date)\n",
        "\n",
        "# Save the cleaned CSV\n",
        "df.to_csv(\"RareBeautyMascara.csv\", index=False) #Update for each product\n",
        "\n",
        "# Display sample results\n",
        "print(df[[date_col]].head())\n"
      ],
      "metadata": {
        "id": "gl5lTrNTedKV"
      },
      "execution_count": null,
      "outputs": []
    },
    {
      "cell_type": "code",
      "source": [
        "#save as a new cleaned csv\n",
        "\n",
        "#replace the naming convention!\n",
        "\n",
        "from google.colab import files\n",
        "\n",
        "df.to_csv('RareBeautyMascaraClean.csv', index=False)\n",
        "\n",
        "#replace naming convention here as well!\n",
        "\n",
        "files.download('RareBeautyMascaraClean.csv')"
      ],
      "metadata": {
        "id": "iTWRrZBXedGs"
      },
      "execution_count": null,
      "outputs": []
    }
  ]
}