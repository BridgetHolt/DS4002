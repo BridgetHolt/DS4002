{
  "nbformat": 4,
  "nbformat_minor": 0,
  "metadata": {
    "colab": {
      "provenance": [],
      "authorship_tag": "ABX9TyOEl8qQFwLi84bOiplxpvK6",
      "include_colab_link": true
    },
    "kernelspec": {
      "name": "python3",
      "display_name": "Python 3"
    },
    "language_info": {
      "name": "python"
    }
  },
  "cells": [
    {
      "cell_type": "markdown",
      "metadata": {
        "id": "view-in-github",
        "colab_type": "text"
      },
      "source": [
        "<a href=\"https://colab.research.google.com/github/BridgetHolt/DS4002/blob/main/SCRIPTS/2_CSV_Combination.ipynb\" target=\"_parent\"><img src=\"https://colab.research.google.com/assets/colab-badge.svg\" alt=\"Open In Colab\"/></a>"
      ]
    },
    {
      "cell_type": "markdown",
      "source": [
        "#Combine csvs from google drive folder"
      ],
      "metadata": {
        "id": "E3roZvTByB3V"
      }
    },
    {
      "cell_type": "code",
      "execution_count": null,
      "metadata": {
        "colab": {
          "base_uri": "https://localhost:8080/"
        },
        "id": "m7sviS7kvAny",
        "outputId": "858d3752-9638-4c82-e538-e888cdda85de"
      },
      "outputs": [
        {
          "output_type": "stream",
          "name": "stdout",
          "text": [
            "CSV files combined successfully!\n"
          ]
        }
      ],
      "source": [
        "import os\n",
        "import pandas as pd\n",
        "\n",
        "\n",
        "#Directory containing the CSV files\n",
        "directory = 'DS4002/DATA/Cleaned Individual Data'\n",
        "\n",
        "#List to hold dataframes\n",
        "dataframes = []\n",
        "\n",
        "#Loop through all files in the directory\n",
        "for filename in os.listdir(directory):\n",
        "    if filename.endswith('.csv'):\n",
        "        file_path = os.path.join(directory, filename)\n",
        "        df = pd.read_csv(file_path)\n",
        "        dataframes.append(df)\n",
        "\n",
        "#Combine all dataframes into one\n",
        "combined_df = pd.concat(dataframes, ignore_index=True)\n",
        "\n",
        "\n",
        "print('CSV files combined successfully!')\n",
        "\n"
      ]
    },
    {
      "cell_type": "code",
      "source": [
        "!pip install vaderSentiment\n"
      ],
      "metadata": {
        "colab": {
          "base_uri": "https://localhost:8080/"
        },
        "id": "m5-1WVMlCV3y",
        "outputId": "8b41499d-4582-4f96-d9d2-2e6db10c5545"
      },
      "execution_count": null,
      "outputs": [
        {
          "output_type": "stream",
          "name": "stdout",
          "text": [
            "Requirement already satisfied: vaderSentiment in /usr/local/lib/python3.11/dist-packages (3.3.2)\n",
            "Requirement already satisfied: requests in /usr/local/lib/python3.11/dist-packages (from vaderSentiment) (2.32.3)\n",
            "Requirement already satisfied: charset-normalizer<4,>=2 in /usr/local/lib/python3.11/dist-packages (from requests->vaderSentiment) (3.4.1)\n",
            "Requirement already satisfied: idna<4,>=2.5 in /usr/local/lib/python3.11/dist-packages (from requests->vaderSentiment) (3.10)\n",
            "Requirement already satisfied: urllib3<3,>=1.21.1 in /usr/local/lib/python3.11/dist-packages (from requests->vaderSentiment) (2.3.0)\n",
            "Requirement already satisfied: certifi>=2017.4.17 in /usr/local/lib/python3.11/dist-packages (from requests->vaderSentiment) (2024.12.14)\n"
          ]
        }
      ]
    },
    {
      "cell_type": "code",
      "source": [
        "import pandas as pd\n",
        "from vaderSentiment.vaderSentiment import SentimentIntensityAnalyzer\n",
        "\n",
        "\n",
        "#Initialize the VADER sentiment analyzer\n",
        "analyzer = SentimentIntensityAnalyzer()\n",
        "\n",
        "#Extracts sentiment scores\n",
        "def get_sentiment_scores(text):\n",
        "    scores = analyzer.polarity_scores(str(text))  # Ensure text is a string\n",
        "    return scores['pos'], scores['neg'], scores['neu'], scores['compound']\n",
        "\n",
        "#Add new columns\n",
        "combined_df[['PositiveScore', 'NegativeScore', 'NeutralScore', 'CompoundScore']] = combined_df['ReviewText'].apply(get_sentiment_scores).apply(pd.Series)\n",
        "\n",
        "#Display the updated DataFrame\n",
        "print(combined_df.head())\n"
      ],
      "metadata": {
        "colab": {
          "base_uri": "https://localhost:8080/"
        },
        "id": "AN8t4wGQBu3o",
        "outputId": "835d9ed0-ae2c-4a17-d503-43ccc477cc84"
      },
      "execution_count": null,
      "outputs": [
        {
          "output_type": "stream",
          "name": "stdout",
          "text": [
            "            Title                                         ReviewText  \\\n",
            "0     Bad formula  Love the color but this thing broke within the...   \n",
            "1             NaN  Pros: very pigmented, love the color\\nCons: so...   \n",
            "2        The best  I love using it very much. I have fair skin an...   \n",
            "3             NaN  I love this blush!!!! it’s so cut and works we...   \n",
            "4  Intense Colour  This is the most intense blush I have ever use...   \n",
            "\n",
            "        UserID         Date       Brand Product CelebrityBranded  \\\n",
            "0  SalmaElnady  06 Feb 2025  RareBeauty   Blush              Yes   \n",
            "1   carleebird  05 Feb 2025  RareBeauty   Blush              Yes   \n",
            "2          NaN  05 Feb 2025  RareBeauty   Blush              Yes   \n",
            "3  Abigail2025  04 Feb 2025  RareBeauty   Blush              Yes   \n",
            "4    Samwalita  03 Feb 2025  RareBeauty   Blush              Yes   \n",
            "\n",
            "   PositiveScore  NegativeScore  NeutralScore  CompoundScore  \n",
            "0          0.127          0.264         0.608        -0.8827  \n",
            "1          0.248          0.000         0.752         0.8903  \n",
            "2          0.360          0.000         0.640         0.8934  \n",
            "3          0.238          0.107         0.655         0.8145  \n",
            "4          0.130          0.042         0.827         0.5849  \n"
          ]
        }
      ]
    },
    {
      "cell_type": "code",
      "source": [
        "#Adding Positive Negative Neutral columns\n",
        "\n",
        "df.loc[(df['CompoundScore'] >= 0.5) & (df['CompoundScore'] <= 1), 'Sentiment'] = 'Positive'\n",
        "\n",
        "df.loc[(df['CompoundScore'] >= -0.5) & (df['CompoundScore'] <= 0.5), 'Sentiment'] = 'Neutral'\n",
        "\n",
        "df.loc[(df['CompoundScore'] >= -1) & (df['CompoundScore'] <= -0.5), 'Sentiment'] = 'Negative'"
      ],
      "metadata": {
        "id": "xI-GIVJ7IvQp"
      },
      "execution_count": null,
      "outputs": []
    },
    {
      "cell_type": "code",
      "source": [
        "from google.colab import files\n",
        "\n",
        "#Save the combined dataframe to a new CSV file\n",
        "combined_df.to_csv('combined_clean_data.csv', index=False)\n",
        "\n",
        "files.download('combined_clean_data.csv')"
      ],
      "metadata": {
        "colab": {
          "base_uri": "https://localhost:8080/",
          "height": 17
        },
        "id": "Gw91MkzowYK-",
        "outputId": "d13b9f7c-042f-4b5f-b135-3f53ae1c89e6"
      },
      "execution_count": null,
      "outputs": [
        {
          "output_type": "display_data",
          "data": {
            "text/plain": [
              "<IPython.core.display.Javascript object>"
            ],
            "application/javascript": [
              "\n",
              "    async function download(id, filename, size) {\n",
              "      if (!google.colab.kernel.accessAllowed) {\n",
              "        return;\n",
              "      }\n",
              "      const div = document.createElement('div');\n",
              "      const label = document.createElement('label');\n",
              "      label.textContent = `Downloading \"${filename}\": `;\n",
              "      div.appendChild(label);\n",
              "      const progress = document.createElement('progress');\n",
              "      progress.max = size;\n",
              "      div.appendChild(progress);\n",
              "      document.body.appendChild(div);\n",
              "\n",
              "      const buffers = [];\n",
              "      let downloaded = 0;\n",
              "\n",
              "      const channel = await google.colab.kernel.comms.open(id);\n",
              "      // Send a message to notify the kernel that we're ready.\n",
              "      channel.send({})\n",
              "\n",
              "      for await (const message of channel.messages) {\n",
              "        // Send a message to notify the kernel that we're ready.\n",
              "        channel.send({})\n",
              "        if (message.buffers) {\n",
              "          for (const buffer of message.buffers) {\n",
              "            buffers.push(buffer);\n",
              "            downloaded += buffer.byteLength;\n",
              "            progress.value = downloaded;\n",
              "          }\n",
              "        }\n",
              "      }\n",
              "      const blob = new Blob(buffers, {type: 'application/binary'});\n",
              "      const a = document.createElement('a');\n",
              "      a.href = window.URL.createObjectURL(blob);\n",
              "      a.download = filename;\n",
              "      div.appendChild(a);\n",
              "      a.click();\n",
              "      div.remove();\n",
              "    }\n",
              "  "
            ]
          },
          "metadata": {}
        },
        {
          "output_type": "display_data",
          "data": {
            "text/plain": [
              "<IPython.core.display.Javascript object>"
            ],
            "application/javascript": [
              "download(\"download_bb95671b-d3e1-48e9-a5bf-9c1525f2336d\", \"combined_output.csv\", 10476883)"
            ]
          },
          "metadata": {}
        }
      ]
    }
  ]
}